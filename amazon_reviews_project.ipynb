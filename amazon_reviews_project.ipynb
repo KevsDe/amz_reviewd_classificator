{
 "cells": [
  {
   "cell_type": "code",
   "execution_count": 4,
   "id": "068e93c6-1efd-49d0-a866-8a84d6dcf41b",
   "metadata": {},
   "outputs": [],
   "source": [
    "import pandas as pd\n",
    "import numpy as np\n",
    "import matplotlib.pyplot as plt\n",
    "import seaborn as sns \n",
    "import src.text_analysis as ta\n",
    "import warnings\n",
    "warnings.filterwarnings('ignore')\n",
    "from sklearn.feature_extraction.text import TfidfVectorizer\n",
    "from sklearn.model_selection import train_test_split\n",
    "from sklearn.metrics import accuracy_score, precision_score, f1_score, recall_score, confusion_matrix\n",
    "from sklearn.model_selection import cross_val_score\n",
    "from sklearn.linear_model import PassiveAggressiveClassifier\n",
    "from sklearn.ensemble import GradientBoostingClassifier, AdaBoostClassifier, RandomForestClassifier\n",
    "from sklearn.svm import SVC"
   ]
  },
  {
   "cell_type": "code",
   "execution_count": 6,
   "id": "191897d8-a59a-4e26-8757-279322d23a74",
   "metadata": {},
   "outputs": [],
   "source": [
    "df = pd.read_csv('input/amazon_reviews.csv')"
   ]
  },
  {
   "cell_type": "code",
   "execution_count": 7,
   "id": "c235f483-020e-4d35-8a54-24c55fd68f4a",
   "metadata": {},
   "outputs": [
    {
     "data": {
      "text/html": [
       "<div>\n",
       "<style scoped>\n",
       "    .dataframe tbody tr th:only-of-type {\n",
       "        vertical-align: middle;\n",
       "    }\n",
       "\n",
       "    .dataframe tbody tr th {\n",
       "        vertical-align: top;\n",
       "    }\n",
       "\n",
       "    .dataframe thead th {\n",
       "        text-align: right;\n",
       "    }\n",
       "</style>\n",
       "<table border=\"1\" class=\"dataframe\">\n",
       "  <thead>\n",
       "    <tr style=\"text-align: right;\">\n",
       "      <th></th>\n",
       "      <th>Id</th>\n",
       "      <th>ProductId</th>\n",
       "      <th>UserId</th>\n",
       "      <th>ProfileName</th>\n",
       "      <th>HelpfulnessNumerator</th>\n",
       "      <th>HelpfulnessDenominator</th>\n",
       "      <th>Score</th>\n",
       "      <th>Time</th>\n",
       "      <th>Summary</th>\n",
       "      <th>Text</th>\n",
       "    </tr>\n",
       "  </thead>\n",
       "  <tbody>\n",
       "    <tr>\n",
       "      <th>0</th>\n",
       "      <td>1</td>\n",
       "      <td>B001E4KFG0</td>\n",
       "      <td>A3SGXH7AUHU8GW</td>\n",
       "      <td>delmartian</td>\n",
       "      <td>1</td>\n",
       "      <td>1</td>\n",
       "      <td>5</td>\n",
       "      <td>1303862400</td>\n",
       "      <td>Good Quality Dog Food</td>\n",
       "      <td>I have bought several of the Vitality canned d...</td>\n",
       "    </tr>\n",
       "    <tr>\n",
       "      <th>1</th>\n",
       "      <td>2</td>\n",
       "      <td>B00813GRG4</td>\n",
       "      <td>A1D87F6ZCVE5NK</td>\n",
       "      <td>dll pa</td>\n",
       "      <td>0</td>\n",
       "      <td>0</td>\n",
       "      <td>1</td>\n",
       "      <td>1346976000</td>\n",
       "      <td>Not as Advertised</td>\n",
       "      <td>Product arrived labeled as Jumbo Salted Peanut...</td>\n",
       "    </tr>\n",
       "    <tr>\n",
       "      <th>2</th>\n",
       "      <td>3</td>\n",
       "      <td>B000LQOCH0</td>\n",
       "      <td>ABXLMWJIXXAIN</td>\n",
       "      <td>Natalia Corres \"Natalia Corres\"</td>\n",
       "      <td>1</td>\n",
       "      <td>1</td>\n",
       "      <td>4</td>\n",
       "      <td>1219017600</td>\n",
       "      <td>\"Delight\" says it all</td>\n",
       "      <td>This is a confection that has been around a fe...</td>\n",
       "    </tr>\n",
       "    <tr>\n",
       "      <th>3</th>\n",
       "      <td>4</td>\n",
       "      <td>B000UA0QIQ</td>\n",
       "      <td>A395BORC6FGVXV</td>\n",
       "      <td>Karl</td>\n",
       "      <td>3</td>\n",
       "      <td>3</td>\n",
       "      <td>2</td>\n",
       "      <td>1307923200</td>\n",
       "      <td>Cough Medicine</td>\n",
       "      <td>If you are looking for the secret ingredient i...</td>\n",
       "    </tr>\n",
       "    <tr>\n",
       "      <th>4</th>\n",
       "      <td>5</td>\n",
       "      <td>B006K2ZZ7K</td>\n",
       "      <td>A1UQRSCLF8GW1T</td>\n",
       "      <td>Michael D. Bigham \"M. Wassir\"</td>\n",
       "      <td>0</td>\n",
       "      <td>0</td>\n",
       "      <td>5</td>\n",
       "      <td>1350777600</td>\n",
       "      <td>Great taffy</td>\n",
       "      <td>Great taffy at a great price.  There was a wid...</td>\n",
       "    </tr>\n",
       "  </tbody>\n",
       "</table>\n",
       "</div>"
      ],
      "text/plain": [
       "   Id   ProductId          UserId                      ProfileName  \\\n",
       "0   1  B001E4KFG0  A3SGXH7AUHU8GW                       delmartian   \n",
       "1   2  B00813GRG4  A1D87F6ZCVE5NK                           dll pa   \n",
       "2   3  B000LQOCH0   ABXLMWJIXXAIN  Natalia Corres \"Natalia Corres\"   \n",
       "3   4  B000UA0QIQ  A395BORC6FGVXV                             Karl   \n",
       "4   5  B006K2ZZ7K  A1UQRSCLF8GW1T    Michael D. Bigham \"M. Wassir\"   \n",
       "\n",
       "   HelpfulnessNumerator  HelpfulnessDenominator  Score        Time  \\\n",
       "0                     1                       1      5  1303862400   \n",
       "1                     0                       0      1  1346976000   \n",
       "2                     1                       1      4  1219017600   \n",
       "3                     3                       3      2  1307923200   \n",
       "4                     0                       0      5  1350777600   \n",
       "\n",
       "                 Summary                                               Text  \n",
       "0  Good Quality Dog Food  I have bought several of the Vitality canned d...  \n",
       "1      Not as Advertised  Product arrived labeled as Jumbo Salted Peanut...  \n",
       "2  \"Delight\" says it all  This is a confection that has been around a fe...  \n",
       "3         Cough Medicine  If you are looking for the secret ingredient i...  \n",
       "4            Great taffy  Great taffy at a great price.  There was a wid...  "
      ]
     },
     "execution_count": 7,
     "metadata": {},
     "output_type": "execute_result"
    }
   ],
   "source": [
    "df.head()"
   ]
  },
  {
   "cell_type": "code",
   "execution_count": 8,
   "id": "2916c008-517e-43d4-a70a-433f0c5957b8",
   "metadata": {},
   "outputs": [],
   "source": [
    "df.columns = df.columns.str.lower()"
   ]
  },
  {
   "cell_type": "code",
   "execution_count": 9,
   "id": "64a2abdc-65bd-4274-b35a-7bc235435973",
   "metadata": {},
   "outputs": [],
   "source": [
    "df = df[[\"productid\", \"userid\", \"score\", \"text\"]]"
   ]
  },
  {
   "cell_type": "code",
   "execution_count": 10,
   "id": "934a0835-5d03-4893-9fef-a998d4feece9",
   "metadata": {},
   "outputs": [
    {
     "data": {
      "text/plain": [
       "productid    0\n",
       "userid       0\n",
       "score        0\n",
       "text         0\n",
       "dtype: int64"
      ]
     },
     "execution_count": 10,
     "metadata": {},
     "output_type": "execute_result"
    }
   ],
   "source": [
    "df.isna().sum()"
   ]
  },
  {
   "cell_type": "code",
   "execution_count": 11,
   "id": "e941fa86-c281-4224-9757-5177e3b05875",
   "metadata": {},
   "outputs": [
    {
     "data": {
      "text/html": [
       "<div>\n",
       "<style scoped>\n",
       "    .dataframe tbody tr th:only-of-type {\n",
       "        vertical-align: middle;\n",
       "    }\n",
       "\n",
       "    .dataframe tbody tr th {\n",
       "        vertical-align: top;\n",
       "    }\n",
       "\n",
       "    .dataframe thead th {\n",
       "        text-align: right;\n",
       "    }\n",
       "</style>\n",
       "<table border=\"1\" class=\"dataframe\">\n",
       "  <thead>\n",
       "    <tr style=\"text-align: right;\">\n",
       "      <th></th>\n",
       "      <th>productid</th>\n",
       "      <th>userid</th>\n",
       "      <th>score</th>\n",
       "      <th>text</th>\n",
       "    </tr>\n",
       "  </thead>\n",
       "  <tbody>\n",
       "    <tr>\n",
       "      <th>0</th>\n",
       "      <td>B001E4KFG0</td>\n",
       "      <td>A3SGXH7AUHU8GW</td>\n",
       "      <td>5</td>\n",
       "      <td>I have bought several of the Vitality canned d...</td>\n",
       "    </tr>\n",
       "    <tr>\n",
       "      <th>1</th>\n",
       "      <td>B00813GRG4</td>\n",
       "      <td>A1D87F6ZCVE5NK</td>\n",
       "      <td>1</td>\n",
       "      <td>Product arrived labeled as Jumbo Salted Peanut...</td>\n",
       "    </tr>\n",
       "    <tr>\n",
       "      <th>2</th>\n",
       "      <td>B000LQOCH0</td>\n",
       "      <td>ABXLMWJIXXAIN</td>\n",
       "      <td>4</td>\n",
       "      <td>This is a confection that has been around a fe...</td>\n",
       "    </tr>\n",
       "    <tr>\n",
       "      <th>3</th>\n",
       "      <td>B000UA0QIQ</td>\n",
       "      <td>A395BORC6FGVXV</td>\n",
       "      <td>2</td>\n",
       "      <td>If you are looking for the secret ingredient i...</td>\n",
       "    </tr>\n",
       "    <tr>\n",
       "      <th>4</th>\n",
       "      <td>B006K2ZZ7K</td>\n",
       "      <td>A1UQRSCLF8GW1T</td>\n",
       "      <td>5</td>\n",
       "      <td>Great taffy at a great price.  There was a wid...</td>\n",
       "    </tr>\n",
       "  </tbody>\n",
       "</table>\n",
       "</div>"
      ],
      "text/plain": [
       "    productid          userid  score  \\\n",
       "0  B001E4KFG0  A3SGXH7AUHU8GW      5   \n",
       "1  B00813GRG4  A1D87F6ZCVE5NK      1   \n",
       "2  B000LQOCH0   ABXLMWJIXXAIN      4   \n",
       "3  B000UA0QIQ  A395BORC6FGVXV      2   \n",
       "4  B006K2ZZ7K  A1UQRSCLF8GW1T      5   \n",
       "\n",
       "                                                text  \n",
       "0  I have bought several of the Vitality canned d...  \n",
       "1  Product arrived labeled as Jumbo Salted Peanut...  \n",
       "2  This is a confection that has been around a fe...  \n",
       "3  If you are looking for the secret ingredient i...  \n",
       "4  Great taffy at a great price.  There was a wid...  "
      ]
     },
     "execution_count": 11,
     "metadata": {},
     "output_type": "execute_result"
    }
   ],
   "source": [
    "df.head()"
   ]
  },
  {
   "cell_type": "code",
   "execution_count": 12,
   "id": "1a03aee3-50ec-42f2-b837-228961eff177",
   "metadata": {},
   "outputs": [
    {
     "data": {
      "text/plain": [
       "(568454, 4)"
      ]
     },
     "execution_count": 12,
     "metadata": {},
     "output_type": "execute_result"
    }
   ],
   "source": [
    "df.shape"
   ]
  },
  {
   "cell_type": "code",
   "execution_count": 13,
   "id": "6aed5be3-8b8a-4471-a1fb-7d9d198c28e2",
   "metadata": {},
   "outputs": [
    {
     "data": {
      "text/plain": [
       "1289"
      ]
     },
     "execution_count": 13,
     "metadata": {},
     "output_type": "execute_result"
    }
   ],
   "source": [
    "df.duplicated().sum()"
   ]
  },
  {
   "cell_type": "code",
   "execution_count": 14,
   "id": "40ac34db-8a7e-4ef9-9d09-5934f72861a7",
   "metadata": {},
   "outputs": [],
   "source": [
    "df = df.drop_duplicates()"
   ]
  },
  {
   "cell_type": "code",
   "execution_count": 15,
   "id": "d61cf442-54fd-4de7-92b9-18a4c163e0af",
   "metadata": {},
   "outputs": [],
   "source": [
    "df = df.reset_index(drop=True)"
   ]
  },
  {
   "cell_type": "code",
   "execution_count": 16,
   "id": "5e26f169-f708-4f1f-88a1-a2a219c76237",
   "metadata": {},
   "outputs": [
    {
     "data": {
      "image/png": "[encoded data removed]",
      "text/plain": [
       "<Figure size 640x480 with 1 Axes>"
      ]
     },
     "metadata": {},
     "output_type": "display_data"
    }
   ],
   "source": [
    "ax = sns.countplot(x=\"score\",data=df, palette=\"Set3\")\n",
    "ax.set(xlabel='Star rate', ylabel='Number of reviews')\n",
    "plt.title('Amazon reviews stars rating')\n",
    "plt.show()"
   ]
  },
  {
   "cell_type": "code",
   "execution_count": 17,
   "id": "be01994d-9b96-4b34-b45d-780dc231f68d",
   "metadata": {},
   "outputs": [],
   "source": [
    "df_reviews_per_user = df.groupby(['userid'])[\"score\"].count().to_frame().reset_index().rename(columns={\"score\":\"total_reviews\"}).sort_values(by=\"total_reviews\", ascending=False)"
   ]
  },
  {
   "cell_type": "code",
   "execution_count": 18,
   "id": "c405e378-80f6-4604-959d-3bd43ee383a6",
   "metadata": {},
   "outputs": [
    {
     "data": {
      "text/html": [
       "<div>\n",
       "<style scoped>\n",
       "    .dataframe tbody tr th:only-of-type {\n",
       "        vertical-align: middle;\n",
       "    }\n",
       "\n",
       "    .dataframe tbody tr th {\n",
       "        vertical-align: top;\n",
       "    }\n",
       "\n",
       "    .dataframe thead th {\n",
       "        text-align: right;\n",
       "    }\n",
       "</style>\n",
       "<table border=\"1\" class=\"dataframe\">\n",
       "  <thead>\n",
       "    <tr style=\"text-align: right;\">\n",
       "      <th></th>\n",
       "      <th>userid</th>\n",
       "      <th>total_reviews</th>\n",
       "    </tr>\n",
       "  </thead>\n",
       "  <tbody>\n",
       "    <tr>\n",
       "      <th>182011</th>\n",
       "      <td>A3OXHLG6DIBRW8</td>\n",
       "      <td>442</td>\n",
       "    </tr>\n",
       "    <tr>\n",
       "      <th>65586</th>\n",
       "      <td>A1YUL9PCJR3JTY</td>\n",
       "      <td>410</td>\n",
       "    </tr>\n",
       "    <tr>\n",
       "      <th>252275</th>\n",
       "      <td>AY12DBB0U420B</td>\n",
       "      <td>389</td>\n",
       "    </tr>\n",
       "    <tr>\n",
       "      <th>82919</th>\n",
       "      <td>A281NPSIMI1C2R</td>\n",
       "      <td>365</td>\n",
       "    </tr>\n",
       "    <tr>\n",
       "      <th>66162</th>\n",
       "      <td>A1Z54EM24Y40LL</td>\n",
       "      <td>256</td>\n",
       "    </tr>\n",
       "  </tbody>\n",
       "</table>\n",
       "</div>"
      ],
      "text/plain": [
       "                userid  total_reviews\n",
       "182011  A3OXHLG6DIBRW8            442\n",
       "65586   A1YUL9PCJR3JTY            410\n",
       "252275   AY12DBB0U420B            389\n",
       "82919   A281NPSIMI1C2R            365\n",
       "66162   A1Z54EM24Y40LL            256"
      ]
     },
     "execution_count": 18,
     "metadata": {},
     "output_type": "execute_result"
    }
   ],
   "source": [
    "df_reviews_per_user.head(5)"
   ]
  },
  {
   "cell_type": "code",
   "execution_count": 19,
   "id": "5e3d0673-b912-41f8-adef-2fd9bd4d56ed",
   "metadata": {},
   "outputs": [
    {
     "data": {
      "text/plain": [
       "count    256059.000000\n",
       "mean          2.214978\n",
       "std           4.374043\n",
       "min           1.000000\n",
       "25%           1.000000\n",
       "50%           1.000000\n",
       "75%           2.000000\n",
       "max         442.000000\n",
       "Name: total_reviews, dtype: float64"
      ]
     },
     "execution_count": 19,
     "metadata": {},
     "output_type": "execute_result"
    }
   ],
   "source": [
    "df_reviews_per_user.total_reviews.describe()"
   ]
  },
  {
   "cell_type": "markdown",
   "id": "67c7ec1a-2064-4890-87d1-e397b3cc9f43",
   "metadata": {},
   "source": [
    "75% of all the customers in the data set left less than 2 reviews"
   ]
  },
  {
   "cell_type": "code",
   "execution_count": 20,
   "id": "e8213714-e596-4105-b576-915bedaa8426",
   "metadata": {},
   "outputs": [],
   "source": [
    "df_reviews_per_product = df.groupby(['productid'])[\"score\"].count().to_frame().reset_index().rename(columns={\"score\":\"total_reviews\"}).sort_values(by=\"total_reviews\", ascending=False)"
   ]
  },
  {
   "cell_type": "code",
   "execution_count": 21,
   "id": "0619b805-619c-497a-95cf-207e8ad35c2b",
   "metadata": {},
   "outputs": [
    {
     "data": {
      "text/html": [
       "<div>\n",
       "<style scoped>\n",
       "    .dataframe tbody tr th:only-of-type {\n",
       "        vertical-align: middle;\n",
       "    }\n",
       "\n",
       "    .dataframe tbody tr th {\n",
       "        vertical-align: top;\n",
       "    }\n",
       "\n",
       "    .dataframe thead th {\n",
       "        text-align: right;\n",
       "    }\n",
       "</style>\n",
       "<table border=\"1\" class=\"dataframe\">\n",
       "  <thead>\n",
       "    <tr style=\"text-align: right;\">\n",
       "      <th></th>\n",
       "      <th>productid</th>\n",
       "      <th>total_reviews</th>\n",
       "    </tr>\n",
       "  </thead>\n",
       "  <tbody>\n",
       "    <tr>\n",
       "      <th>71170</th>\n",
       "      <td>B007JFMH8M</td>\n",
       "      <td>913</td>\n",
       "    </tr>\n",
       "    <tr>\n",
       "      <th>42264</th>\n",
       "      <td>B002QWP8H0</td>\n",
       "      <td>630</td>\n",
       "    </tr>\n",
       "    <tr>\n",
       "      <th>37898</th>\n",
       "      <td>B0026RQTGE</td>\n",
       "      <td>630</td>\n",
       "    </tr>\n",
       "    <tr>\n",
       "      <th>42263</th>\n",
       "      <td>B002QWP89S</td>\n",
       "      <td>630</td>\n",
       "    </tr>\n",
       "    <tr>\n",
       "      <th>42257</th>\n",
       "      <td>B002QWHJOU</td>\n",
       "      <td>630</td>\n",
       "    </tr>\n",
       "  </tbody>\n",
       "</table>\n",
       "</div>"
      ],
      "text/plain": [
       "        productid  total_reviews\n",
       "71170  B007JFMH8M            913\n",
       "42264  B002QWP8H0            630\n",
       "37898  B0026RQTGE            630\n",
       "42263  B002QWP89S            630\n",
       "42257  B002QWHJOU            630"
      ]
     },
     "execution_count": 21,
     "metadata": {},
     "output_type": "execute_result"
    }
   ],
   "source": [
    "df_reviews_per_product.head(5)"
   ]
  },
  {
   "cell_type": "code",
   "execution_count": 22,
   "id": "1043a3aa-75ee-4350-ae5b-7d46f1f1b8ca",
   "metadata": {},
   "outputs": [
    {
     "data": {
      "text/plain": [
       "count    74258.000000\n",
       "mean         7.637763\n",
       "std         26.369823\n",
       "min          1.000000\n",
       "25%          1.000000\n",
       "50%          2.000000\n",
       "75%          5.000000\n",
       "max        913.000000\n",
       "Name: total_reviews, dtype: float64"
      ]
     },
     "execution_count": 22,
     "metadata": {},
     "output_type": "execute_result"
    }
   ],
   "source": [
    "df_reviews_per_product.total_reviews.describe()"
   ]
  },
  {
   "cell_type": "markdown",
   "id": "088a9e9c-dd4a-4878-8972-c82245350e92",
   "metadata": {},
   "source": [
    "75% of all the products in the data set have less than 5 reviews"
   ]
  },
  {
   "cell_type": "markdown",
   "id": "7d250197-9029-450f-a7a9-2560119f7995",
   "metadata": {},
   "source": [
    "### Labeling the reviews\n",
    "https://news.cornell.edu/stories/2011/07/cornell-computers-spot-opinion-spam-online-reviews"
   ]
  },
  {
   "cell_type": "markdown",
   "id": "0f38b4d5-8bef-4339-a188-a27a0ec3d87a",
   "metadata": {},
   "source": [
    "### Polarity and subjectivity analysis\n"
   ]
  },
  {
   "cell_type": "code",
   "execution_count": 23,
   "id": "cb235a1b-6aba-4dab-8c65-bfc88d2a6726",
   "metadata": {},
   "outputs": [],
   "source": [
    "polarity,subjectivity = ta.sentimental(df.text)\n",
    "df['polarity'] = polarity\n",
    "df['subjectivity'] = subjectivity"
   ]
  },
  {
   "cell_type": "markdown",
   "id": "852186d2-02b3-4742-9911-75b0eaa175a8",
   "metadata": {},
   "source": [
    "### Readability analysis and words counting"
   ]
  },
  {
   "cell_type": "code",
   "execution_count": 24,
   "id": "5f7d1ec9-7228-43b0-ae85-ec9eb93a1e15",
   "metadata": {},
   "outputs": [],
   "source": [
    "lexicon_count, flesch_reading = ta.textscore(df.text)\n",
    "df['num_words'] = lexicon_count\n",
    "df['flesch_score'] = flesch_reading"
   ]
  },
  {
   "cell_type": "markdown",
   "id": "ac8ba639-2193-4a37-828d-f9c4e2973d3e",
   "metadata": {},
   "source": [
    "### Verbs, nouns and prp ratios\n"
   ]
  },
  {
   "cell_type": "code",
   "execution_count": 25,
   "id": "790e3cb1-1d2b-44ca-a200-bb4558022aa6",
   "metadata": {},
   "outputs": [],
   "source": [
    "tags = ['verbs','nouns','prp']\n",
    "for tag in tags: \n",
    "    df[f'{tag}_ratio'] = (ta.tags_collector (tag, df.text)/df.num_words).round(decimals=2)"
   ]
  },
  {
   "cell_type": "code",
   "execution_count": 26,
   "id": "b4ee86f2-c75e-4951-baaf-556a64bdffb2",
   "metadata": {},
   "outputs": [],
   "source": [
    "columns_names = list(df.columns)\n",
    "columns_names.remove(\"productid\")\n",
    "columns_names.remove(\"userid\")\n",
    "columns_names.remove(\"text\")"
   ]
  },
  {
   "cell_type": "code",
   "execution_count": 27,
   "id": "7943147a-ff5e-481e-a5ed-eefb3cdda2bc",
   "metadata": {},
   "outputs": [
    {
     "name": "stdout",
     "output_type": "stream",
     "text": [
      "The average score is 4.184038154681618\n",
      "The average polarity is 0.2417408161646082\n",
      "The average subjectivity is 0.549362901448432\n",
      "The average num_words is 79.5089577107191\n",
      "The average flesch_score is 81.23819893681734\n",
      "The average verbs_ratio is 0.144711168707519\n",
      "The average nouns_ratio is 0.27448072430421466\n",
      "The average prp_ratio is 0.0921546287235637\n"
     ]
    }
   ],
   "source": [
    "scores = {}\n",
    "for idx in columns_names:\n",
    "    print(f'The average {idx} is {df[idx].mean()}')\n",
    "    scores[idx] = df[idx].mean()"
   ]
  },
  {
   "cell_type": "code",
   "execution_count": 28,
   "id": "e55de493-c907-49b1-afc7-f2cad48b4245",
   "metadata": {},
   "outputs": [],
   "source": [
    "for idx in columns_names:\n",
    "    df[f'{idx}_class'] = df[idx].apply(lambda x: True if x > scores[idx] else False)"
   ]
  },
  {
   "cell_type": "code",
   "execution_count": 29,
   "id": "7cf1d17e-d4ca-4c2f-a0b1-be4148121ff9",
   "metadata": {},
   "outputs": [
    {
     "data": {
      "text/plain": [
       "(567165, 19)"
      ]
     },
     "execution_count": 29,
     "metadata": {},
     "output_type": "execute_result"
    }
   ],
   "source": [
    "df.shape"
   ]
  },
  {
   "cell_type": "code",
   "execution_count": 30,
   "id": "6c5b3eab-a28c-4979-bf9f-d4f843a7b587",
   "metadata": {},
   "outputs": [],
   "source": [
    "df_hq = (df[(df[\"flesch_score_class\"]== True) &\n",
    "    (df[\"verbs_ratio_class\"] == False) &\n",
    "    (df[\"nouns_ratio_class\"] == True) &\n",
    "    (df[\"prp_ratio_class\"] == True)\n",
    "   ])"
   ]
  },
  {
   "cell_type": "code",
   "execution_count": 31,
   "id": "239278cf-7ebc-4909-8ad0-231b25261030",
   "metadata": {},
   "outputs": [],
   "source": [
    "df_lq = (df[(df[\"flesch_score_class\"]== False) &\n",
    "    (df[\"verbs_ratio_class\"] == True) &\n",
    "    (df[\"nouns_ratio_class\"] == False) &\n",
    "    (df[\"prp_ratio_class\"] == False)\n",
    "   ])"
   ]
  },
  {
   "cell_type": "code",
   "execution_count": 32,
   "id": "361bc163-fe13-4024-8165-0753890fdfb7",
   "metadata": {},
   "outputs": [
    {
     "data": {
      "text/plain": [
       "(14842, 19)"
      ]
     },
     "execution_count": 32,
     "metadata": {},
     "output_type": "execute_result"
    }
   ],
   "source": [
    "df_hq.shape"
   ]
  },
  {
   "cell_type": "code",
   "execution_count": 33,
   "id": "bf8dca4a-aa45-441b-89c9-0195b2882720",
   "metadata": {},
   "outputs": [
    {
     "data": {
      "text/plain": [
       "(35788, 19)"
      ]
     },
     "execution_count": 33,
     "metadata": {},
     "output_type": "execute_result"
    }
   ],
   "source": [
    "df_lq.shape"
   ]
  },
  {
   "cell_type": "code",
   "execution_count": 34,
   "id": "c07aa3c3-b6fe-4daa-8a2d-7791cd797b77",
   "metadata": {},
   "outputs": [
    {
     "data": {
      "text/html": [
       "<div>\n",
       "<style scoped>\n",
       "    .dataframe tbody tr th:only-of-type {\n",
       "        vertical-align: middle;\n",
       "    }\n",
       "\n",
       "    .dataframe tbody tr th {\n",
       "        vertical-align: top;\n",
       "    }\n",
       "\n",
       "    .dataframe thead th {\n",
       "        text-align: right;\n",
       "    }\n",
       "</style>\n",
       "<table border=\"1\" class=\"dataframe\">\n",
       "  <thead>\n",
       "    <tr style=\"text-align: right;\">\n",
       "      <th></th>\n",
       "      <th>text</th>\n",
       "      <th>quality</th>\n",
       "    </tr>\n",
       "  </thead>\n",
       "  <tbody>\n",
       "    <tr>\n",
       "      <th>0</th>\n",
       "      <td>The candy is just red , No flavor . Just  plan...</td>\n",
       "      <td>hq</td>\n",
       "    </tr>\n",
       "    <tr>\n",
       "      <th>1</th>\n",
       "      <td>The flavors are good.  However, I do not see a...</td>\n",
       "      <td>hq</td>\n",
       "    </tr>\n",
       "    <tr>\n",
       "      <th>2</th>\n",
       "      <td>No tea flavor at all. Just whole brunch of art...</td>\n",
       "      <td>hq</td>\n",
       "    </tr>\n",
       "    <tr>\n",
       "      <th>3</th>\n",
       "      <td>I've been a fan of Hot &amp; Spicy Maruchan Ramen ...</td>\n",
       "      <td>hq</td>\n",
       "    </tr>\n",
       "    <tr>\n",
       "      <th>4</th>\n",
       "      <td>This is a fabulous marinade!  I love to use it...</td>\n",
       "      <td>hq</td>\n",
       "    </tr>\n",
       "  </tbody>\n",
       "</table>\n",
       "</div>"
      ],
      "text/plain": [
       "                                                text quality\n",
       "0  The candy is just red , No flavor . Just  plan...      hq\n",
       "1  The flavors are good.  However, I do not see a...      hq\n",
       "2  No tea flavor at all. Just whole brunch of art...      hq\n",
       "3  I've been a fan of Hot & Spicy Maruchan Ramen ...      hq\n",
       "4  This is a fabulous marinade!  I love to use it...      hq"
      ]
     },
     "execution_count": 34,
     "metadata": {},
     "output_type": "execute_result"
    }
   ],
   "source": [
    "df_hq[\"quality\"] = \"hq\"\n",
    "df_lq[\"quality\"] = \"lq\"\n",
    "df_class = pd.concat([df_hq, df_lq], ignore_index=True)\n",
    "df_class = df_class[[\"text\", \"quality\"]]\n",
    "df_class.head()"
   ]
  },
  {
   "cell_type": "code",
   "execution_count": 35,
   "id": "a3965485-17a7-424d-881a-3da9a0832501",
   "metadata": {},
   "outputs": [
    {
     "data": {
      "text/plain": [
       "(50630, 2)"
      ]
     },
     "execution_count": 35,
     "metadata": {},
     "output_type": "execute_result"
    }
   ],
   "source": [
    "df_class.shape"
   ]
  },
  {
   "cell_type": "code",
   "execution_count": null,
   "id": "345854d6-27e3-45fa-8bd4-5d3801dfdf68",
   "metadata": {},
   "outputs": [],
   "source": [
    "df_class.to_csv(\"output/df_class.csv\", index=False)"
   ]
  },
  {
   "cell_type": "code",
   "execution_count": 36,
   "id": "c672a30d-52ba-47d4-9117-d21e6ff12d64",
   "metadata": {},
   "outputs": [
    {
     "data": {
      "text/plain": [
       "lq    0.706854\n",
       "hq    0.293146\n",
       "Name: quality, dtype: float64"
      ]
     },
     "execution_count": 36,
     "metadata": {},
     "output_type": "execute_result"
    }
   ],
   "source": [
    "df_class.quality.value_counts(normalize=True)"
   ]
  },
  {
   "cell_type": "code",
   "execution_count": 69,
   "id": "7874d597-1dfe-4c74-8e5a-1e99ee855fb3",
   "metadata": {},
   "outputs": [],
   "source": [
    "tfidf = TfidfVectorizer(tokenizer=ta.nltk_tokenizer)"
   ]
  },
  {
   "cell_type": "code",
   "execution_count": 39,
   "id": "da0b7ac1-58fe-4502-a187-d2dac427b905",
   "metadata": {},
   "outputs": [],
   "source": [
    "X_train, X_test, y_train, y_test = train_test_split(df_class['text'], df_class['quality'], test_size=0.25, random_state=28, shuffle=True)"
   ]
  },
  {
   "cell_type": "code",
   "execution_count": 71,
   "id": "300d27ed-44b8-4589-8449-75b81e68f343",
   "metadata": {},
   "outputs": [],
   "source": [
    "train = tfidf.fit_transform(X_train.values.astype('U'))"
   ]
  },
  {
   "cell_type": "markdown",
   "id": "7a0a65db-3650-4e2b-9d61-56bda49fc720",
   "metadata": {},
   "source": [
    "### Training several models at once\n"
   ]
  },
  {
   "cell_type": "code",
   "execution_count": 73,
   "id": "5fe75300-3f7c-423e-8f1b-c12221c515b6",
   "metadata": {},
   "outputs": [],
   "source": [
    "train = tfidf.fit_transform(X_train.values.astype('U'))\n",
    "test = tfidf.transform(X_test.values.astype('U'))"
   ]
  },
  {
   "cell_type": "code",
   "execution_count": 42,
   "id": "51b72b88-73e0-4f20-93b0-40170ae14b2d",
   "metadata": {},
   "outputs": [],
   "source": [
    "models = {\n",
    "    \"PassiveAggressiveClassifier\" : PassiveAggressiveClassifier(),\n",
    "    \"GradientBoostingClassifier\": GradientBoostingClassifier(),\n",
    "    \"AdaBoostClassifier\" : AdaBoostClassifier(),\n",
    "    \"RandomForestClassifier\" : RandomForestClassifier(),\n",
    "    \"SVC\" : SVC()\n",
    "}"
   ]
  },
  {
   "cell_type": "code",
   "execution_count": 43,
   "id": "7c09fa90-0248-4852-8110-9b2139cfe83d",
   "metadata": {},
   "outputs": [
    {
     "name": "stdout",
     "output_type": "stream",
     "text": [
      "Training PassiveAggressiveClassifier\n",
      "Training GradientBoostingClassifier\n",
      "Training AdaBoostClassifier\n",
      "Training RandomForestClassifier\n",
      "Training SVC\n",
      "All the models have been trained\n"
     ]
    }
   ],
   "source": [
    "for name, model in models.items():\n",
    "    print(f\"Training {name}\")\n",
    "    model.fit(train, y_train)\n",
    "print(\"All the models have been trained\")"
   ]
  },
  {
   "cell_type": "code",
   "execution_count": 44,
   "id": "e74bc9c7-ff40-4f01-86f4-5d6849a82446",
   "metadata": {},
   "outputs": [
    {
     "name": "stdout",
     "output_type": "stream",
     "text": [
      "-------PassiveAggressiveClassifier-------\n",
      "Accuracy: 98.4%\n",
      "Precission: 98.4%\n",
      "Recall: 98.4%\n",
      "F1_score: 98.4%\n",
      "-------GradientBoostingClassifier-------\n",
      "Accuracy: 91.9%\n",
      "Precission: 92.0%\n",
      "Recall: 91.9%\n",
      "F1_score: 91.7%\n",
      "-------AdaBoostClassifier-------\n",
      "Accuracy: 92.2%\n",
      "Precission: 92.1%\n",
      "Recall: 92.2%\n",
      "F1_score: 92.1%\n",
      "-------RandomForestClassifier-------\n",
      "Accuracy: 92.9%\n",
      "Precission: 93.2%\n",
      "Recall: 92.9%\n",
      "F1_score: 92.6%\n",
      "-------SVC-------\n",
      "Accuracy: 98.4%\n",
      "Precission: 98.4%\n",
      "Recall: 98.4%\n",
      "F1_score: 98.4%\n"
     ]
    }
   ],
   "source": [
    "for name, model in models.items():\n",
    "    y_pred = model.predict(test)\n",
    "    print(f\"-------{name}-------\")\n",
    "    print (f\"Accuracy: {accuracy_score(y_test,y_pred)*100:.3}%\")\n",
    "    print(f\"Precission: {precision_score(y_test,y_pred, average = 'weighted')*100:.3}%\")\n",
    "    print(f\"Recall: {recall_score(y_test,y_pred, average = 'weighted')*100:.3}%\")\n",
    "    print(f\"F1_score: {f1_score(y_test,y_pred, average = 'weighted')*100:.3}%\")"
   ]
  },
  {
   "cell_type": "code",
   "execution_count": 46,
   "id": "da234ec8-fb5c-44d7-bd64-cda998c34aea",
   "metadata": {},
   "outputs": [
    {
     "data": {
      "text/plain": [
       "array([[3587,  134],\n",
       "       [  64, 8873]])"
      ]
     },
     "execution_count": 46,
     "metadata": {},
     "output_type": "execute_result"
    }
   ],
   "source": [
    "confusion_matrix(y_test,y_pred, labels = ['hq','lq'])"
   ]
  },
  {
   "cell_type": "code",
   "execution_count": 49,
   "id": "946c8605-ce06-4923-bc38-425231b4df1a",
   "metadata": {},
   "outputs": [
    {
     "data": {
      "image/png": "[encoded data removed]",
      "text/plain": [
       "<Figure size 640x480 with 2 Axes>"
      ]
     },
     "metadata": {},
     "output_type": "display_data"
    }
   ],
   "source": [
    "sns.heatmap(confusion_matrix(y_test,y_pred, labels = ['hq','lq']))\n",
    "plt.show()\n"
   ]
  },
  {
   "cell_type": "markdown",
   "id": "a33863ac-655d-44b8-adcd-3fcd688af3f6",
   "metadata": {},
   "source": [
    "### K-fold cross validation\n"
   ]
  },
  {
   "cell_type": "code",
   "execution_count": 91,
   "id": "cf273835-10e8-4176-9bcb-73a1c7f97023",
   "metadata": {},
   "outputs": [],
   "source": [
    "X = tfidf.fit_transform(df_class['text'].values.astype('U'))"
   ]
  },
  {
   "cell_type": "code",
   "execution_count": 54,
   "id": "22540f0e-9d75-491c-918a-0e944f1699fd",
   "metadata": {},
   "outputs": [
    {
     "name": "stdout",
     "output_type": "stream",
     "text": [
      "PassiveAggressiveClassifier\n",
      "K-fold cross validation Accuracy: 98.48%\n",
      "GradientBoostingClassifier\n",
      "K-fold cross validation Accuracy: 92.01%\n",
      "AdaBoostClassifier\n",
      "K-fold cross validation Accuracy: 92.37%\n",
      "RandomForestClassifier\n",
      "K-fold cross validation Accuracy: 92.49%\n",
      "SVC\n",
      "K-fold cross validation Accuracy: 98.49%\n"
     ]
    }
   ],
   "source": [
    "for name, model in models.items():\n",
    "    print(f\"{name}\")\n",
    "    validation = cross_val_score(model, X, df_class['quality'].values, cv=5)\n",
    "    print(f'K-fold cross validation Accuracy: {round(validation.mean() * 100,2)}%')"
   ]
  },
  {
   "cell_type": "markdown",
   "id": "8c06878a-d6bc-442d-b320-488867736830",
   "metadata": {},
   "source": [
    "After applying a k-fold cross validation I decided to select Support Vector Classification (SVC)."
   ]
  },
  {
   "cell_type": "code",
   "execution_count": 59,
   "id": "8be95353-430f-4df0-a045-c500f896e96b",
   "metadata": {},
   "outputs": [
    {
     "data": {
      "text/html": [
       "<style>#sk-container-id-1 {color: black;background-color: white;}#sk-container-id-1 pre{padding: 0;}#sk-container-id-1 div.sk-toggleable {background-color: white;}#sk-container-id-1 label.sk-toggleable__label {cursor: pointer;display: block;width: 100%;margin-bottom: 0;padding: 0.3em;box-sizing: border-box;text-align: center;}#sk-container-id-1 label.sk-toggleable__label-arrow:before {content: \"▸\";float: left;margin-right: 0.25em;color: #696969;}#sk-container-id-1 label.sk-toggleable__label-arrow:hover:before {color: black;}#sk-container-id-1 div.sk-estimator:hover label.sk-toggleable__label-arrow:before {color: black;}#sk-container-id-1 div.sk-toggleable__content {max-height: 0;max-width: 0;overflow: hidden;text-align: left;background-color: #f0f8ff;}#sk-container-id-1 div.sk-toggleable__content pre {margin: 0.2em;color: black;border-radius: 0.25em;background-color: #f0f8ff;}#sk-container-id-1 input.sk-toggleable__control:checked~div.sk-toggleable__content {max-height: 200px;max-width: 100%;overflow: auto;}#sk-container-id-1 input.sk-toggleable__control:checked~label.sk-toggleable__label-arrow:before {content: \"▾\";}#sk-container-id-1 div.sk-estimator input.sk-toggleable__control:checked~label.sk-toggleable__label {background-color: #d4ebff;}#sk-container-id-1 div.sk-label input.sk-toggleable__control:checked~label.sk-toggleable__label {background-color: #d4ebff;}#sk-container-id-1 input.sk-hidden--visually {border: 0;clip: rect(1px 1px 1px 1px);clip: rect(1px, 1px, 1px, 1px);height: 1px;margin: -1px;overflow: hidden;padding: 0;position: absolute;width: 1px;}#sk-container-id-1 div.sk-estimator {font-family: monospace;background-color: #f0f8ff;border: 1px dotted black;border-radius: 0.25em;box-sizing: border-box;margin-bottom: 0.5em;}#sk-container-id-1 div.sk-estimator:hover {background-color: #d4ebff;}#sk-container-id-1 div.sk-parallel-item::after {content: \"\";width: 100%;border-bottom: 1px solid gray;flex-grow: 1;}#sk-container-id-1 div.sk-label:hover label.sk-toggleable__label {background-color: #d4ebff;}#sk-container-id-1 div.sk-serial::before {content: \"\";position: absolute;border-left: 1px solid gray;box-sizing: border-box;top: 0;bottom: 0;left: 50%;z-index: 0;}#sk-container-id-1 div.sk-serial {display: flex;flex-direction: column;align-items: center;background-color: white;padding-right: 0.2em;padding-left: 0.2em;position: relative;}#sk-container-id-1 div.sk-item {position: relative;z-index: 1;}#sk-container-id-1 div.sk-parallel {display: flex;align-items: stretch;justify-content: center;background-color: white;position: relative;}#sk-container-id-1 div.sk-item::before, #sk-container-id-1 div.sk-parallel-item::before {content: \"\";position: absolute;border-left: 1px solid gray;box-sizing: border-box;top: 0;bottom: 0;left: 50%;z-index: -1;}#sk-container-id-1 div.sk-parallel-item {display: flex;flex-direction: column;z-index: 1;position: relative;background-color: white;}#sk-container-id-1 div.sk-parallel-item:first-child::after {align-self: flex-end;width: 50%;}#sk-container-id-1 div.sk-parallel-item:last-child::after {align-self: flex-start;width: 50%;}#sk-container-id-1 div.sk-parallel-item:only-child::after {width: 0;}#sk-container-id-1 div.sk-dashed-wrapped {border: 1px dashed gray;margin: 0 0.4em 0.5em 0.4em;box-sizing: border-box;padding-bottom: 0.4em;background-color: white;}#sk-container-id-1 div.sk-label label {font-family: monospace;font-weight: bold;display: inline-block;line-height: 1.2em;}#sk-container-id-1 div.sk-label-container {text-align: center;}#sk-container-id-1 div.sk-container {/* jupyter's `normalize.less` sets `[hidden] { display: none; }` but bootstrap.min.css set `[hidden] { display: none !important; }` so we also need the `!important` here to be able to override the default hidden behavior on the sphinx rendered scikit-learn.org. See: https://github.com/scikit-learn/scikit-learn/issues/21755 */display: inline-block !important;position: relative;}#sk-container-id-1 div.sk-text-repr-fallback {display: none;}</style><div id=\"sk-container-id-1\" class=\"sk-top-container\"><div class=\"sk-text-repr-fallback\"><pre>SVC()</pre><b>In a Jupyter environment, please rerun this cell to show the HTML representation or trust the notebook. <br />On GitHub, the HTML representation is unable to render, please try loading this page with nbviewer.org.</b></div><div class=\"sk-container\" hidden><div class=\"sk-item\"><div class=\"sk-estimator sk-toggleable\"><input class=\"sk-toggleable__control sk-hidden--visually\" id=\"sk-estimator-id-1\" type=\"checkbox\" checked><label for=\"sk-estimator-id-1\" class=\"sk-toggleable__label sk-toggleable__label-arrow\">SVC</label><div class=\"sk-toggleable__content\"><pre>SVC()</pre></div></div></div></div></div>"
      ],
      "text/plain": [
       "SVC()"
      ]
     },
     "execution_count": 59,
     "metadata": {},
     "output_type": "execute_result"
    }
   ],
   "source": [
    "model = SVC()\n",
    "model.fit(X, df_class['quality'].values)"
   ]
  },
  {
   "cell_type": "code",
   "execution_count": 93,
   "id": "9bcc7d83-9fe8-4ce0-8452-8cb3fddbfde7",
   "metadata": {},
   "outputs": [
    {
     "data": {
      "text/plain": [
       "'lq'"
      ]
     },
     "execution_count": 93,
     "metadata": {},
     "output_type": "execute_result"
    }
   ],
   "source": [
    "model.predict(tfidf.transform([\"clearly a fake review\"]))[0]"
   ]
  },
  {
   "cell_type": "code",
   "execution_count": 113,
   "id": "ef0e41a2-bb5c-4c59-b93a-212ddb02cec5",
   "metadata": {},
   "outputs": [
    {
     "data": {
      "text/plain": [
       "'hq'"
      ]
     },
     "execution_count": 113,
     "metadata": {},
     "output_type": "execute_result"
    }
   ],
   "source": [
    "model.predict(tfidf.transform([\"The pop arrived on time, I really like how it looks on my shelf, will order it again as a present\"]))[0]"
   ]
  }
 ],
 "metadata": {
  "kernelspec": {
   "display_name": "Python 3 (ipykernel)",
   "language": "python",
   "name": "python3"
  },
  "language_info": {
   "codemirror_mode": {
    "name": "ipython",
    "version": 3
   },
   "file_extension": ".py",
   "mimetype": "text/x-python",
   "name": "python",
   "nbconvert_exporter": "python",
   "pygments_lexer": "ipython3",
   "version": "3.8.10"
  }
 },
 "nbformat": 4,
 "nbformat_minor": 5
}
